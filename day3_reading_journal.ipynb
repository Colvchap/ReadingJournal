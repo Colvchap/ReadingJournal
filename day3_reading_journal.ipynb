{
 "cells": [
  {
   "cell_type": "markdown",
   "metadata": {},
   "source": [
    "# Day 3 Reading Journal\n",
    "\n",
    "This journal includes several required exercises, but it is meant to encourage active reading more generally.  You should use the journal to take detailed notes, catalog questions, and explore the content from Think Python deeply.\n",
    "\n",
    "Reading: Think Python Chapter 8, 10.1-10.6\n",
    "\n",
    "**Due: Thursday, January 26 at noon**\n",
    "\n"
   ]
  },
  {
   "cell_type": "markdown",
   "metadata": {},
   "source": [
    "## [Chapter 8](http://www.greenteapress.com/thinkpython2/html/thinkpython2009.html)\n",
    "\n",
    "Note: the exercise numbers below match up with the reading for ease of cross referencing."
   ]
  },
  {
   "cell_type": "markdown",
   "metadata": {},
   "source": [
    "### Chapter 8.3  \n",
    "\n",
    "Write a function that takes a string as an argument and displays the letters backward, one per line."
   ]
  },
  {
   "cell_type": "code",
   "execution_count": 5,
   "metadata": {
    "collapsed": false
   },
   "outputs": [
    {
     "name": "stdout",
     "output_type": "stream",
     "text": [
      "r\n",
      "u\n",
      "a\n",
      "s\n",
      "o\n",
      "n\n",
      "i\n",
      "d\n"
     ]
    },
    {
     "ename": "IndexError",
     "evalue": "string index out of range",
     "output_type": "error",
     "traceback": [
      "\u001b[0;31m---------------------------------------------------------------------------\u001b[0m",
      "\u001b[0;31mIndexError\u001b[0m                                Traceback (most recent call last)",
      "\u001b[0;32m<ipython-input-5-0b549764e435>\u001b[0m in \u001b[0;36m<module>\u001b[0;34m()\u001b[0m\n\u001b[1;32m      8\u001b[0m \u001b[0;34m\u001b[0m\u001b[0m\n\u001b[1;32m      9\u001b[0m \u001b[0;34m\u001b[0m\u001b[0m\n\u001b[0;32m---> 10\u001b[0;31m \u001b[0mback\u001b[0m\u001b[0;34m(\u001b[0m\u001b[0;34m'dinosaur'\u001b[0m\u001b[0;34m)\u001b[0m\u001b[0;34m\u001b[0m\u001b[0m\n\u001b[0m",
      "\u001b[0;32m<ipython-input-5-0b549764e435>\u001b[0m in \u001b[0;36mback\u001b[0;34m(word)\u001b[0m\n\u001b[1;32m      2\u001b[0m     \u001b[0mi\u001b[0m \u001b[0;34m=\u001b[0m \u001b[0;34m-\u001b[0m\u001b[0;36m1\u001b[0m\u001b[0;34m\u001b[0m\u001b[0m\n\u001b[1;32m      3\u001b[0m     \u001b[0;32mwhile\u001b[0m \u001b[0;32mTrue\u001b[0m\u001b[0;34m:\u001b[0m\u001b[0;34m\u001b[0m\u001b[0m\n\u001b[0;32m----> 4\u001b[0;31m         \u001b[0mprint\u001b[0m\u001b[0;34m(\u001b[0m\u001b[0mword\u001b[0m\u001b[0;34m[\u001b[0m\u001b[0mi\u001b[0m\u001b[0;34m]\u001b[0m\u001b[0;34m)\u001b[0m\u001b[0;34m\u001b[0m\u001b[0m\n\u001b[0m\u001b[1;32m      5\u001b[0m         \u001b[0;32mif\u001b[0m \u001b[0mabs\u001b[0m\u001b[0;34m(\u001b[0m\u001b[0mi\u001b[0m\u001b[0;34m)\u001b[0m \u001b[0;34m>\u001b[0m \u001b[0;34m(\u001b[0m\u001b[0mlen\u001b[0m\u001b[0;34m(\u001b[0m\u001b[0mword\u001b[0m\u001b[0;34m)\u001b[0m\u001b[0;34m)\u001b[0m\u001b[0;34m:\u001b[0m\u001b[0;34m\u001b[0m\u001b[0m\n\u001b[1;32m      6\u001b[0m                       \u001b[0;32mreturn\u001b[0m\u001b[0;34m\u001b[0m\u001b[0m\n",
      "\u001b[0;31mIndexError\u001b[0m: string index out of range"
     ]
    }
   ],
   "source": [
    "def back(word):\n",
    "    i = -1\n",
    "    while True:\n",
    "        print(word[i])\n",
    "        if abs(i) > (len(word)):\n",
    "                      return\n",
    "        i -= 1\n",
    "                \n",
    "                     \n",
    "back('dinosaur')"
   ]
  },
  {
   "cell_type": "markdown",
   "metadata": {},
   "source": [
    "**Challenge (optional):** Write a function that translates words into [Pig Latin](https://en.wikipedia.org/wiki/Pig_Latin). \n",
    "\n",
    "**Challenge to the challenge**: Write a function that translates back into English."
   ]
  },
  {
   "cell_type": "code",
   "execution_count": null,
   "metadata": {
    "collapsed": true
   },
   "outputs": [],
   "source": [
    "def pig_latin(word):\n",
    "    \"\"\"\n",
    "    Return given 'word' translated into Pig Latin\n",
    "    \n",
    "    >>> pig_latin(\"software\")\n",
    "    'oftwaresay'\n",
    "    \"\"\"\n",
    "    pass #TODO: Implement me\n",
    "\n",
    "# If you'd like to actually run the doctests here, you can uncomment the lines below.\n",
    "# We use this slightly more complex method to test only the pig_latin function, without running tests on any other functions that may be in this notebook.\n",
    "#import doctest\n",
    "#doctest.run_docstring_examples(pig_latin, globals())"
   ]
  },
  {
   "cell_type": "markdown",
   "metadata": {},
   "source": [
    "### Chapter 8.7\n",
    "Encapsulate the character counting code in a fruitful function named `count` that accepts the string and the letter as arguments and returns the count."
   ]
  },
  {
   "cell_type": "code",
   "execution_count": 6,
   "metadata": {
    "collapsed": false
   },
   "outputs": [
    {
     "data": {
      "text/plain": [
       "8"
      ]
     },
     "execution_count": 6,
     "metadata": {},
     "output_type": "execute_result"
    }
   ],
   "source": [
    "def count(word):\n",
    "    i = 0\n",
    "    for item in word:\n",
    "        i +=1\n",
    "    return i\n",
    "\n",
    "count('dinosaur')"
   ]
  },
  {
   "cell_type": "markdown",
   "metadata": {},
   "source": [
    "### Exercise 8.1\n",
    "Skim the documentation of the Python [string methods](http://docs.python.org/3/library/stdtypes.html#string-methods). Play with them to make sure you understand how they work-- strip, replace, and upper/lower are particularly useful. Show us some of your experiments."
   ]
  },
  {
   "cell_type": "code",
   "execution_count": 17,
   "metadata": {
    "collapsed": false
   },
   "outputs": [
    {
     "ename": "SyntaxError",
     "evalue": "invalid syntax (<ipython-input-17-ca693913fa3b>, line 5)",
     "output_type": "error",
     "traceback": [
      "\u001b[0;36m  File \u001b[0;32m\"<ipython-input-17-ca693913fa3b>\"\u001b[0;36m, line \u001b[0;32m5\u001b[0m\n\u001b[0;31m    print(A.replace(\"u\", \"i\"))\u001b[0m\n\u001b[0m        ^\u001b[0m\n\u001b[0;31mSyntaxError\u001b[0m\u001b[0;31m:\u001b[0m invalid syntax\n"
     ]
    }
   ],
   "source": [
    "A = 'dinosaur'\n",
    "print(A.upper())\n",
    "print(A)\n",
    "print(A.strip(uars)\n",
    "print(A.replace(\"u\", \"i\"))\n",
    "      \n",
    "      #I'm not sure where my syntax is off for replace. I believve it follows the example exactly."
   ]
  },
  {
   "cell_type": "markdown",
   "metadata": {},
   "source": [
    "### Exercise 8.4  \n",
    "\n",
    "The following functions are all intended to check whether a string contains any lowercase letters, but at least some of them are wrong. For each function, describe what the function actually does (assuming that the parameter is a string)."
   ]
  },
  {
   "cell_type": "code",
   "execution_count": null,
   "metadata": {
    "collapsed": true
   },
   "outputs": [],
   "source": [
    "def any_lowercase1(s):\n",
    "    for c in s:\n",
    "        if c.islower():\n",
    "            return True\n",
    "        else:\n",
    "            return False"
   ]
  },
  {
   "cell_type": "markdown",
   "metadata": {},
   "source": [
    "It should work perfectly. The function returns a True/False answer"
   ]
  },
  {
   "cell_type": "markdown",
   "metadata": {},
   "source": [
    " "
   ]
  },
  {
   "cell_type": "code",
   "execution_count": null,
   "metadata": {
    "collapsed": true
   },
   "outputs": [],
   "source": [
    "def any_lowercase2(s):\n",
    "    for c in s:\n",
    "        if 'c'.islower():\n",
    "            return 'True'\n",
    "        else:\n",
    "            return 'False'"
   ]
  },
  {
   "cell_type": "markdown",
   "metadata": {},
   "source": [
    "It should also work.\n",
    "This time, the function returns a string explaining the answer"
   ]
  },
  {
   "cell_type": "markdown",
   "metadata": {},
   "source": [
    " "
   ]
  },
  {
   "cell_type": "code",
   "execution_count": 25,
   "metadata": {
    "collapsed": false
   },
   "outputs": [
    {
     "data": {
      "text/plain": [
       "False"
      ]
     },
     "execution_count": 25,
     "metadata": {},
     "output_type": "execute_result"
    }
   ],
   "source": [
    "def any_lowercase3(s):\n",
    "    for c in s:\n",
    "        flag = c.islower()\n",
    "    return flag\n",
    "\n",
    "any_lowercase3(\"DaDNNS\")"
   ]
  },
  {
   "cell_type": "markdown",
   "metadata": {},
   "source": [
    "Doesn't work. It only really checks the last character since it reassigns the flag every time."
   ]
  },
  {
   "cell_type": "markdown",
   "metadata": {},
   "source": [
    " "
   ]
  },
  {
   "cell_type": "code",
   "execution_count": 22,
   "metadata": {
    "collapsed": false
   },
   "outputs": [
    {
     "data": {
      "text/plain": [
       "True"
      ]
     },
     "execution_count": 22,
     "metadata": {},
     "output_type": "execute_result"
    }
   ],
   "source": [
    "def any_lowercase4(s):\n",
    "    flag = False\n",
    "    for c in s:\n",
    "        flag = flag or c.islower()\n",
    "    return flag\n",
    "\n",
    "\n",
    "any_lowercase4(\"DDNNS a\")"
   ]
  },
  {
   "cell_type": "markdown",
   "metadata": {},
   "source": [
    "Works! -acts the same as example 1"
   ]
  },
  {
   "cell_type": "markdown",
   "metadata": {},
   "source": [
    " "
   ]
  },
  {
   "cell_type": "code",
   "execution_count": 24,
   "metadata": {
    "collapsed": false
   },
   "outputs": [
    {
     "data": {
      "text/plain": [
       "False"
      ]
     },
     "execution_count": 24,
     "metadata": {},
     "output_type": "execute_result"
    }
   ],
   "source": [
    "def any_lowercase5(s):\n",
    "    for c in s:\n",
    "        if not c.islower():\n",
    "            return False\n",
    "    return True\n",
    "\n",
    "any_lowercase5('. h,')"
   ]
  },
  {
   "cell_type": "markdown",
   "metadata": {},
   "source": [
    "This one doesn't work since the loop returns false after only looking at the first character, (unless its lowercase)."
   ]
  },
  {
   "cell_type": "markdown",
   "metadata": {},
   "source": [
    " "
   ]
  },
  {
   "cell_type": "markdown",
   "metadata": {},
   "source": [
    "## [Chapter 10.1 - 10.6](http://www.greenteapress.com/thinkpython2/html/thinkpython2011.html)\n",
    "\n",
    "You may want to review [state diagrams in Chapter 2](http://www.greenteapress.com/thinkpython2/html/thinkpython2003.html#toc13).\n",
    "\n"
   ]
  },
  {
   "cell_type": "markdown",
   "metadata": {},
   "source": [
    "**Quick check:** What type of items can be placed in a list?"
   ]
  },
  {
   "cell_type": "markdown",
   "metadata": {},
   "source": [
    "strings, floats, lists, integers"
   ]
  },
  {
   "cell_type": "markdown",
   "metadata": {},
   "source": [
    "**Quick check:** Give at least one similarity and one difference between lists and strings."
   ]
  },
  {
   "cell_type": "markdown",
   "metadata": {},
   "source": [
    "You can access an element in a list like you would access a character in a string:\n",
    "\n",
    "    'string'[2]    \n",
    "    and \n",
    "    [1,'elf','r',65.3][2] \n",
    "    \n",
    "    both return 'r' -- the third item\n",
    "    \n",
    "    \n",
    "    \n",
    "    "
   ]
  },
  {
   "cell_type": "markdown",
   "metadata": {},
   "source": [
    "### Exercise\n",
    "\n",
    "Write a Python function named `average` that takes a list of numbers and returns their arithmetic mean."
   ]
  },
  {
   "cell_type": "code",
   "execution_count": 32,
   "metadata": {
    "collapsed": false
   },
   "outputs": [
    {
     "data": {
      "text/plain": [
       "3.6666666666666665"
      ]
     },
     "execution_count": 32,
     "metadata": {},
     "output_type": "execute_result"
    }
   ],
   "source": [
    "def average(List):\n",
    "    \n",
    "    \"\"\"Returns arithmetic mean of a list of integers or floats\"\"\"\n",
    "    \n",
    "    E = sum(List)\n",
    "    return E/len(List)\n",
    "    \n",
    "average([1,2,8])"
   ]
  },
  {
   "cell_type": "markdown",
   "metadata": {},
   "source": [
    "### Exercise\n",
    "You own a restaurant, and you need to keep up with the latest food fads or risk losing your fickle customers. You decide to write a Python function that adds the hot new ingredient _du jour_ to each of your regular menu items and returns the trendy new menu."
   ]
  },
  {
   "cell_type": "code",
   "execution_count": 46,
   "metadata": {
    "collapsed": false
   },
   "outputs": [
    {
     "name": "stdout",
     "output_type": "stream",
     "text": [
      "Finding tests in NoName\n",
      "Trying:\n",
      "    add_ingredient([\"burger\", \"salad\", \"ice cream\"], \"kale\")\n",
      "Expecting:\n",
      "    ['burger with kale', 'salad with kale', 'ice cream with kale']\n",
      "ok\n"
     ]
    }
   ],
   "source": [
    "def add_ingredient(menu, ingredient):\n",
    "    \"\"\"\n",
    "    Given a list of string 'menu' items and a trendy 'ingredient' string of the day,\n",
    "    return a new menu list of strings with the ingredient added to each.\n",
    "    \n",
    "    >>> add_ingredient([\"burger\", \"salad\", \"ice cream\"], \"kale\")\n",
    "    ['burger with kale', 'salad with kale', 'ice cream with kale']\n",
    "        \"\"\"\n",
    "    i = 0\n",
    "    for dish in menu:\n",
    "        menu[i] = dish + \" with \" + ingredient\n",
    "        i += 1\n",
    "    return menu\n",
    "        \n",
    "\n",
    "# Running doctests in jupyter notebook:\n",
    "# If you'd like to actually run the doctests here, you can uncomment the lines below.\n",
    "# We use this slightly more complex method to test only the add_ingredient function,\n",
    "# without running tests on any other functions that may be in this notebook.\n",
    "\n",
    "import doctest\n",
    "doctest.run_docstring_examples(add_ingredient, globals(), verbose=True)"
   ]
  },
  {
   "cell_type": "markdown",
   "metadata": {},
   "source": [
    "## Quick poll\n",
    "About how long did you spend working on this reading journal?"
   ]
  },
  {
   "cell_type": "markdown",
   "metadata": {},
   "source": [
    "3 hours"
   ]
  },
  {
   "cell_type": "markdown",
   "metadata": {},
   "source": [
    "## Reading Journal feedback\n",
    "\n",
    "Have any comments on this Reading Journal? Feel free to leave them below and we'll read them when you submit your journal entry. This could include suggestions to improve the exercises, topics you'd like to see covered in class next time, or other feedback.\n",
    "\n",
    "If you have Python questions or run into problems while completing the reading, you should post them to Piazza instead so you can get a quick response before your journal is submitted."
   ]
  },
  {
   "cell_type": "markdown",
   "metadata": {},
   "source": []
  },
  {
   "cell_type": "markdown",
   "metadata": {},
   "source": [
    " "
   ]
  }
 ],
 "metadata": {
  "kernelspec": {
   "display_name": "Python 3",
   "language": "python",
   "name": "python3"
  },
  "language_info": {
   "codemirror_mode": {
    "name": "ipython",
    "version": 3
   },
   "file_extension": ".py",
   "mimetype": "text/x-python",
   "name": "python",
   "nbconvert_exporter": "python",
   "pygments_lexer": "ipython3",
   "version": "3.5.2"
  }
 },
 "nbformat": 4,
 "nbformat_minor": 0
}
