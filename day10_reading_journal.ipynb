{
 "cells": [
  {
   "cell_type": "markdown",
   "metadata": {},
   "source": [
    "# Day 10 Reading Journal\n",
    "\n",
    "This journal includes several required exercises, but it is meant to encourage active reading more generally.  You should use the journal to take detailed notes, catalog questions, and explore the content from Think Python deeply.\n",
    "\n",
    "Reading: Review Think Python Chapters 15-17\n",
    "\n",
    "**Due: Thursday, February 23 at 12 noon**\n",
    "\n"
   ]
  },
  {
   "cell_type": "markdown",
   "metadata": {},
   "source": [
    "## [Chapter 15](http://www.greenteapress.com/thinkpython2/html/thinkpython2016.html), [Chapter 16](http://www.greenteapress.com/thinkpython2/html/thinkpython2017.html), [Chapter 17](http://www.greenteapress.com/thinkpython2/html/thinkpython2018.html)\n",
    "\n",
    "\n",
    "By the end of chapter 17, we have all the tools we need to create our own user-defined types known as classes. In this reading journal, we're asking you to review and solidify your understanding of this material so we can build on it for the rest of the course. \n",
    "\n",
    "If you didn't get a chance to fully complete the Day 9 reading journal, you may want to do so now."
   ]
  },
  {
   "cell_type": "markdown",
   "metadata": {
    "problem": "Terminology"
   },
   "source": [
    "### Terminology\n",
    "\n",
    "You should be familiar with the following list of terms and concepts. If any of them are unclear to you, re-read, ask, write a definition in your own words, and try an example if appropriate.\n",
    "\n",
    " - class\n",
    " \n",
    " - object\n",
    " \n",
    " - instance \n",
    "     Your class definition is used to create an object\n",
    "     \n",
    " - attribute\n",
    "     Like a variable in a class specific to each object\n",
    " \n",
    " - method\n",
    "     Like a function for object/a class. Usually changes a \n",
    " \n",
    " - shallow vs deep copying\n",
    "     Only relevant to objects that contain other objects.\n",
    "     Shallow copying copies an object, and references internal objects back to the original.\n",
    "     Deep copying is recursive, and makes copies of original objects all the way down the line (until the lowest level object doesen't contain another object)\n",
    "     \n",
    " - pure functions vs modifiers\n",
    "     does not modify any previously defined code. Only intereacts with previous code using parameters passed into the function.\n",
    "     \n",
    " - initializing object instances\n",
    "     uses an __init__ function\n",
    " "
   ]
  },
  {
   "cell_type": "markdown",
   "metadata": {
    "is_question": true,
    "problem": "Exercise 1"
   },
   "source": [
    "### Exercise\n",
    "\n",
    "We're going to take the first steps toward writing a calendar application. To keep things simple, we'll restrict ourselves to a single day for now. Write an `Event` class with the following attributes:\n",
    "\n",
    " - `name`  : Title for the `Event`\n",
    " - `start` : `Time` object representing the start time for the `Event`\n",
    " - `end`   : `Time` object representing the end time for the `Event`\n",
    "\n",
    "You can also augment your `Event` class with additional attributes, such as location and attendees.\n",
    "\n",
    "Write `__init__` and `__str__` methods for your `Event` class."
   ]
  },
  {
   "cell_type": "code",
   "execution_count": 20,
   "metadata": {
    "collapsed": false
   },
   "outputs": [
    {
     "ename": "SyntaxError",
     "evalue": "invalid syntax (<ipython-input-20-f47b2659017b>, line 5)",
     "output_type": "error",
     "traceback": [
      "\u001b[0;36m  File \u001b[0;32m\"<ipython-input-20-f47b2659017b>\"\u001b[0;36m, line \u001b[0;32m5\u001b[0m\n\u001b[0;31m    self.'1' = 'yay'\u001b[0m\n\u001b[0m           ^\u001b[0m\n\u001b[0;31mSyntaxError\u001b[0m\u001b[0;31m:\u001b[0m invalid syntax\n"
     ]
    }
   ],
   "source": [
    "class Time:\n",
    "    def __init__(self, hour, minute):\n",
    "        self.hour = hour\n",
    "        self.minute = minute\n",
    "        self. = 'yay'\n",
    "        return\n",
    "    \n",
    "        \n",
    "    def __str__(self):\n",
    "        return '%d:%d'%(self.hour,self.minute)\n",
    "    \n",
    "timeOne = Time(1,30)\n",
    "print(timeOne.1)"
   ]
  },
  {
   "cell_type": "code",
   "execution_count": 13,
   "metadata": {
    "collapsed": false,
    "solution": "Exercise 1"
   },
   "outputs": [
    {
     "name": "stdout",
     "output_type": "stream",
     "text": [
      "Name of event: Dodgeball!\n",
      "Date: 2/26/17\n",
      "Starting at 10:30\n",
      "Finishing at 11:35\n"
     ]
    }
   ],
   "source": [
    "class Event:\n",
    "    \"\"\"creates an event with a:\n",
    "    Name       (as a string)\n",
    "    Date       (as a string, mm/dd/yy)\n",
    "    Start Time (an object of the Time class)\n",
    "    End Time   (an object of the Time class)\n",
    "        \"\"\"\n",
    "    def __init__(self,name,date,start,end):\n",
    "        self.name = name\n",
    "        self.start = start\n",
    "        self.end = end\n",
    "        self.date = date\n",
    "        return\n",
    "        \n",
    "    def __str__(self):\n",
    "        name = 'Name of event: '+ self.name\n",
    "        date = '\\nDate: '+ self.date\n",
    "        start = '\\nStarting at ' + str(self.start)\n",
    "        end = '\\nFinishing at ' + str(self.end)\n",
    "        return name + date + start + end\n",
    "\n",
    "dodge_start = Time(10,30)\n",
    "dodge_end = Time(11,35)\n",
    "dodgeball = Event('Dodgeball!','2/26/17',dodge_start,dodge_end)\n",
    "print(dodgeball)"
   ]
  },
  {
   "cell_type": "markdown",
   "metadata": {},
   "source": [
    "### Exercise\n",
    "Write a `duration` method that returns the duration of the `Event` in minutes"
   ]
  },
  {
   "cell_type": "code",
   "execution_count": 18,
   "metadata": {
    "collapsed": false,
    "solution": "Exercise 2"
   },
   "outputs": [
    {
     "name": "stdout",
     "output_type": "stream",
     "text": [
      "Name of event: Dodgeball!\n",
      "Date: 2/26/17\n",
      "Starting at 10:30\n",
      "Finishing at 11:35\n"
     ]
    },
    {
     "data": {
      "text/plain": [
       "'The event lasts for 65 minutes.'"
      ]
     },
     "execution_count": 18,
     "metadata": {},
     "output_type": "execute_result"
    }
   ],
   "source": [
    "class Event:\n",
    "    \"\"\"creates an event with a:\n",
    "    Name       (as a string)\n",
    "    Date       (as a string, mm/dd/yy)\n",
    "    Start Time (an object of the Time class)\n",
    "    End Time   (an object of the Time class)\n",
    "        \"\"\"\n",
    "    def __init__(self,name,date,start,end):\n",
    "        self.name = name\n",
    "        self.start = start\n",
    "        self.end = end\n",
    "        self.date = date\n",
    "        return\n",
    "        \n",
    "    def __str__(self):\n",
    "        name = 'Name of event: '+ self.name\n",
    "        date = '\\nDate: '+ self.date\n",
    "        start = '\\nStarting at ' + str(self.start)\n",
    "        end = '\\nFinishing at ' + str(self.end)\n",
    "        return name + date + start + end\n",
    "\n",
    "    def duration(self):\n",
    "        \"\"\"\n",
    "        returns the time the event is running in minutes\n",
    "            \"\"\"\n",
    "        hours = dodgeball.end.hour - dodgeball.start.hour\n",
    "        minutes = dodgeball.end.minute - dodgeball.start.minute\n",
    "        return 'The event lasts for %d minutes.' % (60*hours + minutes)\n",
    "    \n",
    "    \n",
    "    \n",
    "dodge_start = Time(10,30)\n",
    "dodge_end = Time(11,35)\n",
    "dodgeball = Event('Dodgeball!','2/26/17',dodge_start,dodge_end)\n",
    "print(dodgeball)\n",
    "dodgeball.duration()"
   ]
  },
  {
   "cell_type": "markdown",
   "metadata": {},
   "source": [
    "### Exercise\n",
    "I'm not sure where this header went, but it said something about making a class of Agendas that store events."
   ]
  },
  {
   "cell_type": "markdown",
   "metadata": {},
   "source": [
    "I would store my events as an object in an ajenda for any given day"
   ]
  },
  {
   "cell_type": "markdown",
   "metadata": {},
   "source": [
    "Your `Agenda` class should include a `print_agenda` method that prints out your schedule for the day, in order\n",
    "\n",
    "**Optional:** Include a `is_feasible` method that returns `True` if your schedule has no time conflicts. You may want to write additional helper methods for the `Event` class to make this easier."
   ]
  },
  {
   "cell_type": "code",
   "execution_count": 27,
   "metadata": {
    "collapsed": false,
    "solution": "Exercise 3"
   },
   "outputs": [
    {
     "name": "stdout",
     "output_type": "stream",
     "text": [
      "Dodgeball!  :  10:30 to 11:35\n"
     ]
    }
   ],
   "source": [
    "class Agenda:\n",
    "    \n",
    "    def __init__(self,*events):\n",
    "        self.events = events\n",
    "        return\n",
    "    \n",
    "    def print_agenda(self):\n",
    "        for event in self.events:\n",
    "            print(event.name + '  :  ' + str(event.start) + ' to ' + str(event.end))\n",
    "\n",
    "\n",
    "powerchrds_st = Time(1,30)\n",
    "powerchrds_end = Time(3;30)\n",
    "powerchrds = Event('Power Chords','same day as dodgeball',)\n",
    "tuesday = Agenda(dodgeball)\n",
    "tuesday.print_agenda()"
   ]
  },
  {
   "cell_type": "code",
   "execution_count": null,
   "metadata": {
    "collapsed": true
   },
   "outputs": [],
   "source": []
  },
  {
   "cell_type": "markdown",
   "metadata": {
    "is_question": true,
    "problem": "Exercise 4"
   },
   "source": [
    "### Going Beyond (optional)\n",
    "\n",
    "Some ideas for taking your application further:\n",
    " - Add people and/or places to the mix to create a scheduling assistant\n",
    " - Extend support for day-of-week or full date. A word of warning: dealing with dates and times in real applications is difficult due to the huge number of special cases (Perfect example: this reading journal is due on Leap Day). Consider using something like the Python [datetime](https://docs.python.org/3/library/datetime.html) module.\n",
    " - Use pickle or some other persistence strategy to save and load your `Agenda`."
   ]
  },
  {
   "cell_type": "code",
   "execution_count": null,
   "metadata": {
    "collapsed": true,
    "solution": "Exercise 4"
   },
   "outputs": [],
   "source": []
  },
  {
   "cell_type": "markdown",
   "metadata": {
    "poll_response": true,
    "solution": "Time spent"
   },
   "source": [
    " "
   ]
  },
  {
   "cell_type": "markdown",
   "metadata": {
    "is_question": true,
    "problem": "Feedback"
   },
   "source": [
    "## Reading Journal feedback\n",
    "\n",
    "[Please complete this short survey](https://docs.google.com/forms/d/e/1FAIpQLScQekhUrf6YYjpfQiAAbavLIA-IJklv_PX1BWbGgxj7JPolmw/viewform?c=0&w=1)\n",
    "\n",
    "If you have any comments on this Reading Journal, feel free to leave them in the survey linked above. This could include suggestions to improve the exercises, topics you'd like to see covered in class next time, or other feedback.\n",
    "\n",
    "If you have Python questions or run into problems while completing the reading, you should post them to Piazza instead so you can get a quick response before your journal is submitted."
   ]
  },
  {
   "cell_type": "markdown",
   "metadata": {
    "feedback_response": true,
    "solution": "Feedback"
   },
   "source": [
    " "
   ]
  }
 ],
 "metadata": {
  "kernelspec": {
   "display_name": "Python 3",
   "language": "python",
   "name": "python3"
  },
  "language_info": {
   "codemirror_mode": {
    "name": "ipython",
    "version": 3
   },
   "file_extension": ".py",
   "mimetype": "text/x-python",
   "name": "python",
   "nbconvert_exporter": "python",
   "pygments_lexer": "ipython3",
   "version": "3.5.2"
  }
 },
 "nbformat": 4,
 "nbformat_minor": 0
}
